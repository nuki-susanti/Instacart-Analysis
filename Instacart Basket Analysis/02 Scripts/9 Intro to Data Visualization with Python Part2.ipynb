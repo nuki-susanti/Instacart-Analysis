{
 "cells": [
  {
   "cell_type": "markdown",
   "id": "850b5dcc-d6fc-4870-9fb1-010678887051",
   "metadata": {},
   "source": [
    "## This file contains anwers Task 4.9 Part 2"
   ]
  },
  {
   "cell_type": "code",
   "execution_count": 1,
   "id": "62716b6a-4b29-4533-8e49-74a29d432232",
   "metadata": {},
   "outputs": [],
   "source": [
    "# Import libraries\n",
    "\n",
    "import pandas as pd\n",
    "import numpy as np\n",
    "import os\n",
    "import matplotlib.pyplot as plt\n",
    "import seaborn as sns\n",
    "import scipy\n",
    "import gc"
   ]
  },
  {
   "cell_type": "code",
   "execution_count": 2,
   "id": "1f310e17-ed5c-42a0-9081-ae04d2c30447",
   "metadata": {},
   "outputs": [],
   "source": [
    "# Defining path\n",
    "path = r'C:\\Users\\nukis\\Documents\\Instacart Basket Analysis'"
   ]
  },
  {
   "cell_type": "code",
   "execution_count": 3,
   "id": "d28aae19-bc93-4b49-8f17-d9f07f7c72b5",
   "metadata": {},
   "outputs": [],
   "source": [
    "# Importing resized version of 'ords_prods_cust_cleaned.pkl'\n",
    "\n",
    "df_ords_prods_cust_cleaned = pd.read_pickle(os.path.join(path, '02 Data', 'Prepared Data', 'ords_prods_cust_cleaned.pkl'))"
   ]
  },
  {
   "cell_type": "code",
   "execution_count": 4,
   "id": "2f6a2d89-e3bf-4809-bf31-ff6c8f178884",
   "metadata": {},
   "outputs": [
    {
     "data": {
      "text/html": [
       "<div>\n",
       "<style scoped>\n",
       "    .dataframe tbody tr th:only-of-type {\n",
       "        vertical-align: middle;\n",
       "    }\n",
       "\n",
       "    .dataframe tbody tr th {\n",
       "        vertical-align: top;\n",
       "    }\n",
       "\n",
       "    .dataframe thead th {\n",
       "        text-align: right;\n",
       "    }\n",
       "</style>\n",
       "<table border=\"1\" class=\"dataframe\">\n",
       "  <thead>\n",
       "    <tr style=\"text-align: right;\">\n",
       "      <th></th>\n",
       "      <th>order_id</th>\n",
       "      <th>user_id</th>\n",
       "      <th>order_number</th>\n",
       "      <th>order_day_of_week</th>\n",
       "      <th>order_hour_of_day</th>\n",
       "      <th>days_since_prior_order</th>\n",
       "      <th>product_id</th>\n",
       "      <th>add_to_cart_order</th>\n",
       "      <th>reordered</th>\n",
       "      <th>aisle_id</th>\n",
       "      <th>department_id</th>\n",
       "      <th>prices</th>\n",
       "      <th>max_order</th>\n",
       "      <th>avg_price</th>\n",
       "      <th>median_days_since_prior_order</th>\n",
       "      <th>age</th>\n",
       "      <th>dependants_number</th>\n",
       "      <th>income</th>\n",
       "    </tr>\n",
       "  </thead>\n",
       "  <tbody>\n",
       "    <tr>\n",
       "      <th>count</th>\n",
       "      <td>3.240486e+07</td>\n",
       "      <td>3.240486e+07</td>\n",
       "      <td>3.240486e+07</td>\n",
       "      <td>3.240486e+07</td>\n",
       "      <td>3.240486e+07</td>\n",
       "      <td>3.240486e+07</td>\n",
       "      <td>3.240486e+07</td>\n",
       "      <td>3.240486e+07</td>\n",
       "      <td>3.240486e+07</td>\n",
       "      <td>3.240486e+07</td>\n",
       "      <td>3.240486e+07</td>\n",
       "      <td>3.240486e+07</td>\n",
       "      <td>3.240486e+07</td>\n",
       "      <td>3.240486e+07</td>\n",
       "      <td>3.240486e+07</td>\n",
       "      <td>3.240486e+07</td>\n",
       "      <td>3.240486e+07</td>\n",
       "      <td>3.240486e+07</td>\n",
       "    </tr>\n",
       "    <tr>\n",
       "      <th>mean</th>\n",
       "      <td>1.710745e+06</td>\n",
       "      <td>1.029372e+05</td>\n",
       "      <td>1.714230e+01</td>\n",
       "      <td>2.738867e+00</td>\n",
       "      <td>1.342515e+01</td>\n",
       "      <td>9.583349e+00</td>\n",
       "      <td>2.398573e+04</td>\n",
       "      <td>7.598854e+00</td>\n",
       "      <td>5.177376e-01</td>\n",
       "      <td>7.119612e+01</td>\n",
       "      <td>9.919792e+00</td>\n",
       "      <td>1.021125e+01</td>\n",
       "      <td>3.305217e+01</td>\n",
       "      <td>1.004174e+01</td>\n",
       "      <td>8.578756e+00</td>\n",
       "      <td>4.946527e+01</td>\n",
       "      <td>1.501896e+00</td>\n",
       "      <td>9.943773e+04</td>\n",
       "    </tr>\n",
       "    <tr>\n",
       "      <th>std</th>\n",
       "      <td>9.872988e+05</td>\n",
       "      <td>5.946610e+04</td>\n",
       "      <td>1.753532e+01</td>\n",
       "      <td>2.090077e+00</td>\n",
       "      <td>4.246380e+00</td>\n",
       "      <td>8.634166e+00</td>\n",
       "      <td>1.373331e+04</td>\n",
       "      <td>6.597816e+00</td>\n",
       "      <td>4.898790e-01</td>\n",
       "      <td>3.821139e+01</td>\n",
       "      <td>6.281485e+00</td>\n",
       "      <td>4.956361e+02</td>\n",
       "      <td>2.515525e+01</td>\n",
       "      <td>8.321326e+01</td>\n",
       "      <td>6.259329e+00</td>\n",
       "      <td>1.848558e+01</td>\n",
       "      <td>1.118865e+00</td>\n",
       "      <td>4.305727e+04</td>\n",
       "    </tr>\n",
       "    <tr>\n",
       "      <th>min</th>\n",
       "      <td>2.000000e+00</td>\n",
       "      <td>1.000000e+00</td>\n",
       "      <td>1.000000e+00</td>\n",
       "      <td>0.000000e+00</td>\n",
       "      <td>0.000000e+00</td>\n",
       "      <td>-1.000000e+00</td>\n",
       "      <td>1.000000e+00</td>\n",
       "      <td>1.000000e+00</td>\n",
       "      <td>0.000000e+00</td>\n",
       "      <td>1.000000e+00</td>\n",
       "      <td>1.000000e+00</td>\n",
       "      <td>1.000000e+00</td>\n",
       "      <td>1.000000e+00</td>\n",
       "      <td>1.000000e+00</td>\n",
       "      <td>-1.000000e+00</td>\n",
       "      <td>1.800000e+01</td>\n",
       "      <td>0.000000e+00</td>\n",
       "      <td>2.590300e+04</td>\n",
       "    </tr>\n",
       "    <tr>\n",
       "      <th>25%</th>\n",
       "      <td>8.559470e+05</td>\n",
       "      <td>5.142200e+04</td>\n",
       "      <td>5.000000e+00</td>\n",
       "      <td>1.000000e+00</td>\n",
       "      <td>1.000000e+01</td>\n",
       "      <td>4.000000e+00</td>\n",
       "      <td>1.354400e+04</td>\n",
       "      <td>3.000000e+00</td>\n",
       "      <td>0.000000e+00</td>\n",
       "      <td>3.100000e+01</td>\n",
       "      <td>4.000000e+00</td>\n",
       "      <td>4.200000e+00</td>\n",
       "      <td>1.300000e+01</td>\n",
       "      <td>7.387299e+00</td>\n",
       "      <td>6.000000e+00</td>\n",
       "      <td>3.300000e+01</td>\n",
       "      <td>1.000000e+00</td>\n",
       "      <td>6.700400e+04</td>\n",
       "    </tr>\n",
       "    <tr>\n",
       "      <th>50%</th>\n",
       "      <td>1.711049e+06</td>\n",
       "      <td>1.026160e+05</td>\n",
       "      <td>1.100000e+01</td>\n",
       "      <td>3.000000e+00</td>\n",
       "      <td>1.300000e+01</td>\n",
       "      <td>7.000000e+00</td>\n",
       "      <td>2.530200e+04</td>\n",
       "      <td>6.000000e+00</td>\n",
       "      <td>1.000000e+00</td>\n",
       "      <td>8.300000e+01</td>\n",
       "      <td>9.000000e+00</td>\n",
       "      <td>7.400000e+00</td>\n",
       "      <td>2.600000e+01</td>\n",
       "      <td>7.824786e+00</td>\n",
       "      <td>7.000000e+00</td>\n",
       "      <td>4.900000e+01</td>\n",
       "      <td>2.000000e+00</td>\n",
       "      <td>9.661800e+04</td>\n",
       "    </tr>\n",
       "    <tr>\n",
       "      <th>75%</th>\n",
       "      <td>2.565499e+06</td>\n",
       "      <td>1.543890e+05</td>\n",
       "      <td>2.400000e+01</td>\n",
       "      <td>5.000000e+00</td>\n",
       "      <td>1.600000e+01</td>\n",
       "      <td>1.400000e+01</td>\n",
       "      <td>3.794700e+04</td>\n",
       "      <td>1.100000e+01</td>\n",
       "      <td>1.000000e+00</td>\n",
       "      <td>1.070000e+02</td>\n",
       "      <td>1.600000e+01</td>\n",
       "      <td>1.130000e+01</td>\n",
       "      <td>4.700000e+01</td>\n",
       "      <td>8.254023e+00</td>\n",
       "      <td>1.200000e+01</td>\n",
       "      <td>6.500000e+01</td>\n",
       "      <td>3.000000e+00</td>\n",
       "      <td>1.279120e+05</td>\n",
       "    </tr>\n",
       "    <tr>\n",
       "      <th>max</th>\n",
       "      <td>3.421083e+06</td>\n",
       "      <td>2.062090e+05</td>\n",
       "      <td>9.900000e+01</td>\n",
       "      <td>6.000000e+00</td>\n",
       "      <td>2.300000e+01</td>\n",
       "      <td>3.000000e+01</td>\n",
       "      <td>4.968800e+04</td>\n",
       "      <td>1.450000e+02</td>\n",
       "      <td>1.000000e+00</td>\n",
       "      <td>1.340000e+02</td>\n",
       "      <td>2.100000e+01</td>\n",
       "      <td>9.999900e+04</td>\n",
       "      <td>9.900000e+01</td>\n",
       "      <td>2.500543e+04</td>\n",
       "      <td>3.000000e+01</td>\n",
       "      <td>8.100000e+01</td>\n",
       "      <td>3.000000e+00</td>\n",
       "      <td>5.939010e+05</td>\n",
       "    </tr>\n",
       "  </tbody>\n",
       "</table>\n",
       "</div>"
      ],
      "text/plain": [
       "           order_id       user_id  order_number  order_day_of_week  \\\n",
       "count  3.240486e+07  3.240486e+07  3.240486e+07       3.240486e+07   \n",
       "mean   1.710745e+06  1.029372e+05  1.714230e+01       2.738867e+00   \n",
       "std    9.872988e+05  5.946610e+04  1.753532e+01       2.090077e+00   \n",
       "min    2.000000e+00  1.000000e+00  1.000000e+00       0.000000e+00   \n",
       "25%    8.559470e+05  5.142200e+04  5.000000e+00       1.000000e+00   \n",
       "50%    1.711049e+06  1.026160e+05  1.100000e+01       3.000000e+00   \n",
       "75%    2.565499e+06  1.543890e+05  2.400000e+01       5.000000e+00   \n",
       "max    3.421083e+06  2.062090e+05  9.900000e+01       6.000000e+00   \n",
       "\n",
       "       order_hour_of_day  days_since_prior_order    product_id  \\\n",
       "count       3.240486e+07            3.240486e+07  3.240486e+07   \n",
       "mean        1.342515e+01            9.583349e+00  2.398573e+04   \n",
       "std         4.246380e+00            8.634166e+00  1.373331e+04   \n",
       "min         0.000000e+00           -1.000000e+00  1.000000e+00   \n",
       "25%         1.000000e+01            4.000000e+00  1.354400e+04   \n",
       "50%         1.300000e+01            7.000000e+00  2.530200e+04   \n",
       "75%         1.600000e+01            1.400000e+01  3.794700e+04   \n",
       "max         2.300000e+01            3.000000e+01  4.968800e+04   \n",
       "\n",
       "       add_to_cart_order     reordered      aisle_id  department_id  \\\n",
       "count       3.240486e+07  3.240486e+07  3.240486e+07   3.240486e+07   \n",
       "mean        7.598854e+00  5.177376e-01  7.119612e+01   9.919792e+00   \n",
       "std         6.597816e+00  4.898790e-01  3.821139e+01   6.281485e+00   \n",
       "min         1.000000e+00  0.000000e+00  1.000000e+00   1.000000e+00   \n",
       "25%         3.000000e+00  0.000000e+00  3.100000e+01   4.000000e+00   \n",
       "50%         6.000000e+00  1.000000e+00  8.300000e+01   9.000000e+00   \n",
       "75%         1.100000e+01  1.000000e+00  1.070000e+02   1.600000e+01   \n",
       "max         1.450000e+02  1.000000e+00  1.340000e+02   2.100000e+01   \n",
       "\n",
       "             prices     max_order     avg_price  \\\n",
       "count  3.240486e+07  3.240486e+07  3.240486e+07   \n",
       "mean   1.021125e+01  3.305217e+01  1.004174e+01   \n",
       "std    4.956361e+02  2.515525e+01  8.321326e+01   \n",
       "min    1.000000e+00  1.000000e+00  1.000000e+00   \n",
       "25%    4.200000e+00  1.300000e+01  7.387299e+00   \n",
       "50%    7.400000e+00  2.600000e+01  7.824786e+00   \n",
       "75%    1.130000e+01  4.700000e+01  8.254023e+00   \n",
       "max    9.999900e+04  9.900000e+01  2.500543e+04   \n",
       "\n",
       "       median_days_since_prior_order           age  dependants_number  \\\n",
       "count                   3.240486e+07  3.240486e+07       3.240486e+07   \n",
       "mean                    8.578756e+00  4.946527e+01       1.501896e+00   \n",
       "std                     6.259329e+00  1.848558e+01       1.118865e+00   \n",
       "min                    -1.000000e+00  1.800000e+01       0.000000e+00   \n",
       "25%                     6.000000e+00  3.300000e+01       1.000000e+00   \n",
       "50%                     7.000000e+00  4.900000e+01       2.000000e+00   \n",
       "75%                     1.200000e+01  6.500000e+01       3.000000e+00   \n",
       "max                     3.000000e+01  8.100000e+01       3.000000e+00   \n",
       "\n",
       "             income  \n",
       "count  3.240486e+07  \n",
       "mean   9.943773e+04  \n",
       "std    4.305727e+04  \n",
       "min    2.590300e+04  \n",
       "25%    6.700400e+04  \n",
       "50%    9.661800e+04  \n",
       "75%    1.279120e+05  \n",
       "max    5.939010e+05  "
      ]
     },
     "execution_count": 4,
     "metadata": {},
     "output_type": "execute_result"
    }
   ],
   "source": [
    "df_ords_prods_cust_cleaned.describe()"
   ]
  },
  {
   "cell_type": "markdown",
   "id": "e7e36edb-9f12-4371-9146-71a91f9c4f5e",
   "metadata": {},
   "source": [
    "### Q2. Create a bar chart, a histogram, a scatterplot, and a line chart, using a sample subset for the line chart."
   ]
  },
  {
   "cell_type": "code",
   "execution_count": 5,
   "id": "836e1c53-fbe3-454a-8c6f-94d292cfbc18",
   "metadata": {},
   "outputs": [],
   "source": [
    "days = ['Sunday', 'Monday', 'Tuesday', 'Wednesday', 'Thursday', 'Friday', 'Saturday']"
   ]
  },
  {
   "cell_type": "code",
   "execution_count": 6,
   "id": "2cd807d6-6a47-4ebf-8a52-eeb3fe4e1c55",
   "metadata": {},
   "outputs": [
    {
     "data": {
      "image/png": "[encoded data removed]",
      "text/plain": [
       "<Figure size 432x288 with 1 Axes>"
      ]
     },
     "metadata": {
      "needs_background": "light"
     },
     "output_type": "display_data"
    }
   ],
   "source": [
    "# Create a bar chart\n",
    "\n",
    "bar_order_week = df_ords_prods_cust_cleaned['order_day_of_week'].value_counts().sort_index().plot.bar()\n",
    "\n",
    "plt.title('Number of Order by Day')\n",
    "plt.xlabel('Order Day')\n",
    "plt.ylabel('Number of Order')\n",
    "plt.show();"
   ]
  },
  {
   "cell_type": "code",
   "execution_count": 7,
   "id": "c0d9ac81-7281-43a7-bb56-09a5fa93d982",
   "metadata": {},
   "outputs": [
    {
     "data": {
      "image/png": "[encoded data removed]",
      "text/plain": [
       "<Figure size 432x288 with 1 Axes>"
      ]
     },
     "metadata": {
      "needs_background": "light"
     },
     "output_type": "display_data"
    }
   ],
   "source": [
    "# Create a historgram\n",
    "\n",
    "hist = df_ords_prods_cust_cleaned['prices'].plot.hist(bins = 25)"
   ]
  },
  {
   "cell_type": "code",
   "execution_count": 8,
   "id": "a99b6ba0-7492-481b-ab07-f90d2b2dc3d1",
   "metadata": {},
   "outputs": [
    {
     "data": {
      "image/png": "[encoded data removed]",
      "text/plain": [
       "<Figure size 432x288 with 1 Axes>"
      ]
     },
     "metadata": {
      "needs_background": "light"
     },
     "output_type": "display_data"
    }
   ],
   "source": [
    "# Create a scatter plot\n",
    "\n",
    "scatter = sns.scatterplot(x = 'prices', y = 'prices', data = df_ords_prods_cust_cleaned)"
   ]
  },
  {
   "cell_type": "code",
   "execution_count": 9,
   "id": "f97d9105-0222-4f78-8626-f2166dd8ff4e",
   "metadata": {},
   "outputs": [
    {
     "data": {
      "text/html": [
       "<div>\n",
       "<style scoped>\n",
       "    .dataframe tbody tr th:only-of-type {\n",
       "        vertical-align: middle;\n",
       "    }\n",
       "\n",
       "    .dataframe tbody tr th {\n",
       "        vertical-align: top;\n",
       "    }\n",
       "\n",
       "    .dataframe thead th {\n",
       "        text-align: right;\n",
       "    }\n",
       "</style>\n",
       "<table border=\"1\" class=\"dataframe\">\n",
       "  <thead>\n",
       "    <tr style=\"text-align: right;\">\n",
       "      <th></th>\n",
       "      <th>order_id</th>\n",
       "      <th>user_id</th>\n",
       "      <th>order_number</th>\n",
       "      <th>order_day_of_week</th>\n",
       "      <th>order_hour_of_day</th>\n",
       "      <th>days_since_prior_order</th>\n",
       "      <th>product_id</th>\n",
       "      <th>add_to_cart_order</th>\n",
       "      <th>reordered</th>\n",
       "      <th>product_name</th>\n",
       "      <th>...</th>\n",
       "      <th>first_name</th>\n",
       "      <th>surname</th>\n",
       "      <th>gender</th>\n",
       "      <th>state</th>\n",
       "      <th>age</th>\n",
       "      <th>date_joined</th>\n",
       "      <th>dependants_number</th>\n",
       "      <th>marital_status</th>\n",
       "      <th>income</th>\n",
       "      <th>_merge</th>\n",
       "    </tr>\n",
       "  </thead>\n",
       "  <tbody>\n",
       "    <tr>\n",
       "      <th>7805</th>\n",
       "      <td>1435153</td>\n",
       "      <td>1519</td>\n",
       "      <td>26</td>\n",
       "      <td>2</td>\n",
       "      <td>11</td>\n",
       "      <td>6.0</td>\n",
       "      <td>21553.0</td>\n",
       "      <td>15.0</td>\n",
       "      <td>0.0</td>\n",
       "      <td>Lowfat 2% Milkfat Cottage Cheese</td>\n",
       "      <td>...</td>\n",
       "      <td>Craig</td>\n",
       "      <td>Clark</td>\n",
       "      <td>Male</td>\n",
       "      <td>Rhode Island</td>\n",
       "      <td>68</td>\n",
       "      <td>3/4/2020</td>\n",
       "      <td>0</td>\n",
       "      <td>divorced/widowed</td>\n",
       "      <td>177864</td>\n",
       "      <td>both</td>\n",
       "    </tr>\n",
       "    <tr>\n",
       "      <th>7806</th>\n",
       "      <td>1066435</td>\n",
       "      <td>1519</td>\n",
       "      <td>32</td>\n",
       "      <td>3</td>\n",
       "      <td>10</td>\n",
       "      <td>5.0</td>\n",
       "      <td>21553.0</td>\n",
       "      <td>28.0</td>\n",
       "      <td>1.0</td>\n",
       "      <td>Lowfat 2% Milkfat Cottage Cheese</td>\n",
       "      <td>...</td>\n",
       "      <td>Craig</td>\n",
       "      <td>Clark</td>\n",
       "      <td>Male</td>\n",
       "      <td>Rhode Island</td>\n",
       "      <td>68</td>\n",
       "      <td>3/4/2020</td>\n",
       "      <td>0</td>\n",
       "      <td>divorced/widowed</td>\n",
       "      <td>177864</td>\n",
       "      <td>both</td>\n",
       "    </tr>\n",
       "    <tr>\n",
       "      <th>15143</th>\n",
       "      <td>1697208</td>\n",
       "      <td>2409</td>\n",
       "      <td>33</td>\n",
       "      <td>1</td>\n",
       "      <td>19</td>\n",
       "      <td>5.0</td>\n",
       "      <td>21553.0</td>\n",
       "      <td>1.0</td>\n",
       "      <td>0.0</td>\n",
       "      <td>Lowfat 2% Milkfat Cottage Cheese</td>\n",
       "      <td>...</td>\n",
       "      <td>Nicole</td>\n",
       "      <td>Odonnell</td>\n",
       "      <td>Female</td>\n",
       "      <td>Hawaii</td>\n",
       "      <td>55</td>\n",
       "      <td>11/11/2018</td>\n",
       "      <td>2</td>\n",
       "      <td>married</td>\n",
       "      <td>230074</td>\n",
       "      <td>both</td>\n",
       "    </tr>\n",
       "    <tr>\n",
       "      <th>20264</th>\n",
       "      <td>965345</td>\n",
       "      <td>3531</td>\n",
       "      <td>27</td>\n",
       "      <td>2</td>\n",
       "      <td>19</td>\n",
       "      <td>8.0</td>\n",
       "      <td>33664.0</td>\n",
       "      <td>2.0</td>\n",
       "      <td>0.0</td>\n",
       "      <td>2 % Reduced Fat  Milk</td>\n",
       "      <td>...</td>\n",
       "      <td>Alice</td>\n",
       "      <td>Compton</td>\n",
       "      <td>Female</td>\n",
       "      <td>Hawaii</td>\n",
       "      <td>80</td>\n",
       "      <td>10/6/2019</td>\n",
       "      <td>2</td>\n",
       "      <td>married</td>\n",
       "      <td>233776</td>\n",
       "      <td>both</td>\n",
       "    </tr>\n",
       "    <tr>\n",
       "      <th>20497</th>\n",
       "      <td>2943740</td>\n",
       "      <td>3793</td>\n",
       "      <td>1</td>\n",
       "      <td>2</td>\n",
       "      <td>9</td>\n",
       "      <td>-1.0</td>\n",
       "      <td>21553.0</td>\n",
       "      <td>3.0</td>\n",
       "      <td>0.0</td>\n",
       "      <td>Lowfat 2% Milkfat Cottage Cheese</td>\n",
       "      <td>...</td>\n",
       "      <td>Jerry</td>\n",
       "      <td>Allen</td>\n",
       "      <td>Male</td>\n",
       "      <td>Louisiana</td>\n",
       "      <td>59</td>\n",
       "      <td>8/23/2019</td>\n",
       "      <td>3</td>\n",
       "      <td>married</td>\n",
       "      <td>182933</td>\n",
       "      <td>both</td>\n",
       "    </tr>\n",
       "    <tr>\n",
       "      <th>...</th>\n",
       "      <td>...</td>\n",
       "      <td>...</td>\n",
       "      <td>...</td>\n",
       "      <td>...</td>\n",
       "      <td>...</td>\n",
       "      <td>...</td>\n",
       "      <td>...</td>\n",
       "      <td>...</td>\n",
       "      <td>...</td>\n",
       "      <td>...</td>\n",
       "      <td>...</td>\n",
       "      <td>...</td>\n",
       "      <td>...</td>\n",
       "      <td>...</td>\n",
       "      <td>...</td>\n",
       "      <td>...</td>\n",
       "      <td>...</td>\n",
       "      <td>...</td>\n",
       "      <td>...</td>\n",
       "      <td>...</td>\n",
       "      <td>...</td>\n",
       "    </tr>\n",
       "    <tr>\n",
       "      <th>32303799</th>\n",
       "      <td>3265389</td>\n",
       "      <td>51346</td>\n",
       "      <td>4</td>\n",
       "      <td>1</td>\n",
       "      <td>17</td>\n",
       "      <td>13.0</td>\n",
       "      <td>33664.0</td>\n",
       "      <td>2.0</td>\n",
       "      <td>1.0</td>\n",
       "      <td>2 % Reduced Fat  Milk</td>\n",
       "      <td>...</td>\n",
       "      <td>Mr</td>\n",
       "      <td>Gould</td>\n",
       "      <td>Male</td>\n",
       "      <td>Rhode Island</td>\n",
       "      <td>58</td>\n",
       "      <td>1/25/2019</td>\n",
       "      <td>1</td>\n",
       "      <td>married</td>\n",
       "      <td>207497</td>\n",
       "      <td>both</td>\n",
       "    </tr>\n",
       "    <tr>\n",
       "      <th>32307882</th>\n",
       "      <td>1179092</td>\n",
       "      <td>131671</td>\n",
       "      <td>12</td>\n",
       "      <td>4</td>\n",
       "      <td>9</td>\n",
       "      <td>15.0</td>\n",
       "      <td>33664.0</td>\n",
       "      <td>1.0</td>\n",
       "      <td>0.0</td>\n",
       "      <td>2 % Reduced Fat  Milk</td>\n",
       "      <td>...</td>\n",
       "      <td>Diana</td>\n",
       "      <td>Hansen</td>\n",
       "      <td>Female</td>\n",
       "      <td>Rhode Island</td>\n",
       "      <td>35</td>\n",
       "      <td>8/4/2018</td>\n",
       "      <td>0</td>\n",
       "      <td>single</td>\n",
       "      <td>86490</td>\n",
       "      <td>both</td>\n",
       "    </tr>\n",
       "    <tr>\n",
       "      <th>32310810</th>\n",
       "      <td>1226705</td>\n",
       "      <td>39667</td>\n",
       "      <td>7</td>\n",
       "      <td>2</td>\n",
       "      <td>15</td>\n",
       "      <td>20.0</td>\n",
       "      <td>33664.0</td>\n",
       "      <td>14.0</td>\n",
       "      <td>0.0</td>\n",
       "      <td>2 % Reduced Fat  Milk</td>\n",
       "      <td>...</td>\n",
       "      <td>Johnny</td>\n",
       "      <td>Colon</td>\n",
       "      <td>Male</td>\n",
       "      <td>Rhode Island</td>\n",
       "      <td>78</td>\n",
       "      <td>5/8/2019</td>\n",
       "      <td>2</td>\n",
       "      <td>married</td>\n",
       "      <td>195077</td>\n",
       "      <td>both</td>\n",
       "    </tr>\n",
       "    <tr>\n",
       "      <th>32330048</th>\n",
       "      <td>3000037</td>\n",
       "      <td>95105</td>\n",
       "      <td>2</td>\n",
       "      <td>4</td>\n",
       "      <td>19</td>\n",
       "      <td>22.0</td>\n",
       "      <td>33664.0</td>\n",
       "      <td>4.0</td>\n",
       "      <td>0.0</td>\n",
       "      <td>2 % Reduced Fat  Milk</td>\n",
       "      <td>...</td>\n",
       "      <td>Catherine</td>\n",
       "      <td>Browning</td>\n",
       "      <td>Female</td>\n",
       "      <td>South Carolina</td>\n",
       "      <td>48</td>\n",
       "      <td>1/18/2017</td>\n",
       "      <td>2</td>\n",
       "      <td>married</td>\n",
       "      <td>398880</td>\n",
       "      <td>both</td>\n",
       "    </tr>\n",
       "    <tr>\n",
       "      <th>32330049</th>\n",
       "      <td>2741225</td>\n",
       "      <td>95105</td>\n",
       "      <td>4</td>\n",
       "      <td>5</td>\n",
       "      <td>12</td>\n",
       "      <td>2.0</td>\n",
       "      <td>33664.0</td>\n",
       "      <td>3.0</td>\n",
       "      <td>1.0</td>\n",
       "      <td>2 % Reduced Fat  Milk</td>\n",
       "      <td>...</td>\n",
       "      <td>Catherine</td>\n",
       "      <td>Browning</td>\n",
       "      <td>Female</td>\n",
       "      <td>South Carolina</td>\n",
       "      <td>48</td>\n",
       "      <td>1/18/2017</td>\n",
       "      <td>2</td>\n",
       "      <td>married</td>\n",
       "      <td>398880</td>\n",
       "      <td>both</td>\n",
       "    </tr>\n",
       "  </tbody>\n",
       "</table>\n",
       "<p>5127 rows × 33 columns</p>\n",
       "</div>"
      ],
      "text/plain": [
       "          order_id  user_id  order_number  order_day_of_week  \\\n",
       "7805       1435153     1519            26                  2   \n",
       "7806       1066435     1519            32                  3   \n",
       "15143      1697208     2409            33                  1   \n",
       "20264       965345     3531            27                  2   \n",
       "20497      2943740     3793             1                  2   \n",
       "...            ...      ...           ...                ...   \n",
       "32303799   3265389    51346             4                  1   \n",
       "32307882   1179092   131671            12                  4   \n",
       "32310810   1226705    39667             7                  2   \n",
       "32330048   3000037    95105             2                  4   \n",
       "32330049   2741225    95105             4                  5   \n",
       "\n",
       "          order_hour_of_day  days_since_prior_order  product_id  \\\n",
       "7805                     11                     6.0     21553.0   \n",
       "7806                     10                     5.0     21553.0   \n",
       "15143                    19                     5.0     21553.0   \n",
       "20264                    19                     8.0     33664.0   \n",
       "20497                     9                    -1.0     21553.0   \n",
       "...                     ...                     ...         ...   \n",
       "32303799                 17                    13.0     33664.0   \n",
       "32307882                  9                    15.0     33664.0   \n",
       "32310810                 15                    20.0     33664.0   \n",
       "32330048                 19                    22.0     33664.0   \n",
       "32330049                 12                     2.0     33664.0   \n",
       "\n",
       "          add_to_cart_order  reordered                      product_name  ...  \\\n",
       "7805                   15.0        0.0  Lowfat 2% Milkfat Cottage Cheese  ...   \n",
       "7806                   28.0        1.0  Lowfat 2% Milkfat Cottage Cheese  ...   \n",
       "15143                   1.0        0.0  Lowfat 2% Milkfat Cottage Cheese  ...   \n",
       "20264                   2.0        0.0             2 % Reduced Fat  Milk  ...   \n",
       "20497                   3.0        0.0  Lowfat 2% Milkfat Cottage Cheese  ...   \n",
       "...                     ...        ...                               ...  ...   \n",
       "32303799                2.0        1.0             2 % Reduced Fat  Milk  ...   \n",
       "32307882                1.0        0.0             2 % Reduced Fat  Milk  ...   \n",
       "32310810               14.0        0.0             2 % Reduced Fat  Milk  ...   \n",
       "32330048                4.0        0.0             2 % Reduced Fat  Milk  ...   \n",
       "32330049                3.0        1.0             2 % Reduced Fat  Milk  ...   \n",
       "\n",
       "          first_name   surname  gender           state age date_joined  \\\n",
       "7805           Craig     Clark    Male    Rhode Island  68    3/4/2020   \n",
       "7806           Craig     Clark    Male    Rhode Island  68    3/4/2020   \n",
       "15143         Nicole  Odonnell  Female          Hawaii  55  11/11/2018   \n",
       "20264          Alice   Compton  Female          Hawaii  80   10/6/2019   \n",
       "20497          Jerry     Allen    Male       Louisiana  59   8/23/2019   \n",
       "...              ...       ...     ...             ...  ..         ...   \n",
       "32303799          Mr     Gould    Male    Rhode Island  58   1/25/2019   \n",
       "32307882       Diana    Hansen  Female    Rhode Island  35    8/4/2018   \n",
       "32310810      Johnny     Colon    Male    Rhode Island  78    5/8/2019   \n",
       "32330048   Catherine  Browning  Female  South Carolina  48   1/18/2017   \n",
       "32330049   Catherine  Browning  Female  South Carolina  48   1/18/2017   \n",
       "\n",
       "         dependants_number    marital_status  income  _merge  \n",
       "7805                     0  divorced/widowed  177864    both  \n",
       "7806                     0  divorced/widowed  177864    both  \n",
       "15143                    2           married  230074    both  \n",
       "20264                    2           married  233776    both  \n",
       "20497                    3           married  182933    both  \n",
       "...                    ...               ...     ...     ...  \n",
       "32303799                 1           married  207497    both  \n",
       "32307882                 0            single   86490    both  \n",
       "32310810                 2           married  195077    both  \n",
       "32330048                 2           married  398880    both  \n",
       "32330049                 2           married  398880    both  \n",
       "\n",
       "[5127 rows x 33 columns]"
      ]
     },
     "execution_count": 9,
     "metadata": {},
     "output_type": "execute_result"
    }
   ],
   "source": [
    "df_ords_prods_cust_cleaned.loc[df_ords_prods_cust_cleaned['prices'] > 100]"
   ]
  },
  {
   "cell_type": "code",
   "execution_count": 10,
   "id": "5064528d-222e-4759-a723-fe6ae0ea51b2",
   "metadata": {},
   "outputs": [],
   "source": [
    "df_ords_prods_cust_cleaned.loc[df_ords_prods_cust_cleaned['prices'] >100, 'prices'] = np.nan"
   ]
  },
  {
   "cell_type": "code",
   "execution_count": 11,
   "id": "67860266-dc61-46f9-8d1b-1be872b1cc2e",
   "metadata": {},
   "outputs": [
    {
     "data": {
      "text/plain": [
       "5127"
      ]
     },
     "execution_count": 11,
     "metadata": {},
     "output_type": "execute_result"
    }
   ],
   "source": [
    "df_ords_prods_cust_cleaned['prices'].isnull().sum()"
   ]
  },
  {
   "cell_type": "code",
   "execution_count": 12,
   "id": "8697ebbb-51e8-448e-8b5f-15ad16b69616",
   "metadata": {},
   "outputs": [
    {
     "data": {
      "text/plain": [
       "25.0"
      ]
     },
     "execution_count": 12,
     "metadata": {},
     "output_type": "execute_result"
    }
   ],
   "source": [
    "df_ords_prods_cust_cleaned['prices'].max()"
   ]
  },
  {
   "cell_type": "code",
   "execution_count": 13,
   "id": "decf6c7c-d523-4497-b677-30a8e661b837",
   "metadata": {},
   "outputs": [],
   "source": [
    "#Exporting the updated dataframe\n",
    "\n",
    "df_ords_prods_cust_cleaned.to_pickle(os.path.join(path, '02 Data','Prepared Data', 'ords_prods_cust_cleaned2.pkl'))"
   ]
  },
  {
   "cell_type": "code",
   "execution_count": 14,
   "id": "f9f4b92a-0730-41cf-b6e6-09b4c4e2129d",
   "metadata": {},
   "outputs": [
    {
     "data": {
      "image/png": "[encoded data removed]",
      "text/plain": [
       "<Figure size 432x288 with 1 Axes>"
      ]
     },
     "metadata": {
      "needs_background": "light"
     },
     "output_type": "display_data"
    }
   ],
   "source": [
    "# Create again the historgram\n",
    "\n",
    "hist2 = df_ords_prods_cust_cleaned['prices'].plot.hist(bins = 50)\n",
    "\n",
    "plt.title('Product Prices Distribution')\n",
    "plt.xlabel('Prices Range')\n",
    "plt.ylabel('Number of Prices')\n",
    "plt.show();"
   ]
  },
  {
   "cell_type": "code",
   "execution_count": 15,
   "id": "36b9daef-8cd2-4fb8-a8d5-98bc1df24c46",
   "metadata": {},
   "outputs": [
    {
     "data": {
      "image/png": "[encoded data removed]",
      "text/plain": [
       "<Figure size 432x288 with 1 Axes>"
      ]
     },
     "metadata": {
      "needs_background": "light"
     },
     "output_type": "display_data"
    }
   ],
   "source": [
    "# Create again the scatter plot\n",
    "\n",
    "scatter2 = sns.scatterplot(x = 'prices', y = 'prices',data = df_ords_prods_cust_cleaned)"
   ]
  },
  {
   "cell_type": "code",
   "execution_count": 16,
   "id": "4fbcfe5f-8b4f-4ef4-8ce5-7676c7be792f",
   "metadata": {},
   "outputs": [],
   "source": [
    "# Create line chart using subset\n",
    "\n",
    "np.random.seed(4)\n",
    "dev = np.random.rand(len(df_ords_prods_cust_cleaned)) <= 0.7"
   ]
  },
  {
   "cell_type": "code",
   "execution_count": 17,
   "id": "7a1a2c6e-68cd-4818-b2be-d1014a1e7682",
   "metadata": {},
   "outputs": [
    {
     "data": {
      "text/plain": [
       "array([False,  True, False, ...,  True,  True,  True])"
      ]
     },
     "execution_count": 17,
     "metadata": {},
     "output_type": "execute_result"
    }
   ],
   "source": [
    "dev"
   ]
  },
  {
   "cell_type": "code",
   "execution_count": 18,
   "id": "019d09ba-b606-4475-b9d4-286d6a9f34be",
   "metadata": {},
   "outputs": [],
   "source": [
    "# Store 70% of the sample\n",
    "\n",
    "big = df_ords_prods_cust_cleaned[dev]"
   ]
  },
  {
   "cell_type": "code",
   "execution_count": 19,
   "id": "2b8c3912-b270-4c35-b1eb-980fa71bdd0f",
   "metadata": {},
   "outputs": [],
   "source": [
    "# Store 30% of the sample\n",
    "\n",
    "small = df_ords_prods_cust_cleaned[~dev]"
   ]
  },
  {
   "cell_type": "code",
   "execution_count": 20,
   "id": "e4b043e3-c72b-455c-9db3-3aed447324f2",
   "metadata": {},
   "outputs": [
    {
     "data": {
      "text/plain": [
       "32404859"
      ]
     },
     "execution_count": 20,
     "metadata": {},
     "output_type": "execute_result"
    }
   ],
   "source": [
    "len(df_ords_prods_cust_cleaned)"
   ]
  },
  {
   "cell_type": "code",
   "execution_count": 21,
   "id": "6625d3e0-4f9e-4150-ab8d-8b9ba398fa09",
   "metadata": {},
   "outputs": [
    {
     "data": {
      "text/plain": [
       "32404859"
      ]
     },
     "execution_count": 21,
     "metadata": {},
     "output_type": "execute_result"
    }
   ],
   "source": [
    "len(big) + len(small)"
   ]
  },
  {
   "cell_type": "code",
   "execution_count": 22,
   "id": "eeb1c462-ccdf-466e-9e37-5a55dd2292f5",
   "metadata": {},
   "outputs": [],
   "source": [
    "# Reducing sample to only needed columns: 'prices' and 'order_day_of_week'\n",
    "\n",
    "df_prices_odw_col = small[['prices', 'order_day_of_week']]"
   ]
  },
  {
   "cell_type": "code",
   "execution_count": 23,
   "id": "fe4e75ce-60d9-44e3-8076-ee74755549d4",
   "metadata": {},
   "outputs": [
    {
     "data": {
      "image/png": "[encoded data removed]",
      "text/plain": [
       "<Figure size 432x288 with 1 Axes>"
      ]
     },
     "metadata": {
      "needs_background": "light"
     },
     "output_type": "display_data"
    }
   ],
   "source": [
    "line = sns.lineplot(data = df_prices_odw_col, x = 'order_day_of_week',y = 'prices')"
   ]
  },
  {
   "cell_type": "markdown",
   "id": "37017b5e-d351-49c4-8af6-cf5cfbe9cba2",
   "metadata": {},
   "source": [
    "#### Q3. Provide the Instacart senior stakeholders with descriptive findings about sales.\n",
    "Create a histogram of the “order_hour_of_day” column.\n",
    "In a markdown cell beneath histogram, describe what the histogram demonstrates."
   ]
  },
  {
   "cell_type": "code",
   "execution_count": 24,
   "id": "75ed09b8-7026-44f0-95b1-49e98627dda9",
   "metadata": {},
   "outputs": [
    {
     "data": {
      "image/png": "[encoded data removed]",
      "text/plain": [
       "<Figure size 432x288 with 1 Axes>"
      ]
     },
     "metadata": {
      "needs_background": "light"
     },
     "output_type": "display_data"
    }
   ],
   "source": [
    "hist3 = df_ords_prods_cust_cleaned['order_hour_of_day'].plot.hist(bins = 70)\n",
    "\n",
    "plt.xlabel('Order Hour of Day - AM/PM')\n",
    "plt.ylabel('Number of Order')\n",
    "plt.title('Number of Order by Hour')\n",
    "plt.legend()\n",
    "plt.show()"
   ]
  },
  {
   "cell_type": "markdown",
   "id": "255fe4e6-ae9e-47f9-83bf-b0b64cec615c",
   "metadata": {},
   "source": [
    "Most orders occured between 10 AM to 3 PM with only slight differences. It starts to drop at 4 PM. However, afternoon and night orders are considerably high, compared to midnight orders (12-5 AM). While significant rise on orders happened to be in the morning, between 6 to 9AM."
   ]
  },
  {
   "cell_type": "markdown",
   "id": "91b54f5d-329a-4369-8026-f4064ae6542c",
   "metadata": {},
   "source": [
    "#### Q4. Marketing team is curious about the distribution of orders among customers in terms of loyalty.\n",
    "Create a bar chart from the “loyalty_flag” column."
   ]
  },
  {
   "cell_type": "code",
   "execution_count": 25,
   "id": "2ddf005b-d4a2-4421-b261-ccdc2ebf2aeb",
   "metadata": {},
   "outputs": [
    {
     "data": {
      "image/png": "[encoded data removed]",
      "text/plain": [
       "<Figure size 432x288 with 1 Axes>"
      ]
     },
     "metadata": {
      "needs_background": "light"
     },
     "output_type": "display_data"
    }
   ],
   "source": [
    "# Create a bar chart\n",
    "\n",
    "bar2 = df_ords_prods_cust_cleaned['loyalty_flag'].value_counts().plot.bar()"
   ]
  },
  {
   "cell_type": "code",
   "execution_count": 26,
   "id": "e336bbfe-fc34-446e-a9e0-b05c4ebd407f",
   "metadata": {},
   "outputs": [
    {
     "data": {
      "text/plain": [
       "Regular customer    15876776\n",
       "Loyal customer      10284093\n",
       "New customer         6243990\n",
       "Name: loyalty_flag, dtype: int64"
      ]
     },
     "execution_count": 26,
     "metadata": {},
     "output_type": "execute_result"
    }
   ],
   "source": [
    "df_ords_prods_cust_cleaned['loyalty_flag'].value_counts()"
   ]
  },
  {
   "cell_type": "markdown",
   "id": "c75a953c-f009-4fb9-bfc2-b7d801d68d72",
   "metadata": {},
   "source": [
    "The largest customer distribution lies in the regular customer, a category for customer placing order between 10 to 40."
   ]
  },
  {
   "cell_type": "markdown",
   "id": "ac2afd47-c0ef-412b-a764-22bd35cc67fb",
   "metadata": {},
   "source": [
    "#### Q5. Check whether there’s a difference in expenditure (the 'prices' column) depending on the hour of the day.\n",
    "(Hint: To check this, you need to use an accurate sample for your line chart!)"
   ]
  },
  {
   "cell_type": "code",
   "execution_count": 27,
   "id": "b7ed1568-0aa5-4edb-a64b-87d430a82dac",
   "metadata": {},
   "outputs": [],
   "source": [
    "df_prices_ohd_col = small[['prices', 'order_hour_of_day']]"
   ]
  },
  {
   "cell_type": "code",
   "execution_count": 28,
   "id": "2f64ea2c-5c8e-4d7a-83dc-e91b1c48d9d4",
   "metadata": {},
   "outputs": [
    {
     "data": {
      "image/png": "[encoded data removed]",
      "text/plain": [
       "<Figure size 432x288 with 1 Axes>"
      ]
     },
     "metadata": {
      "needs_background": "light"
     },
     "output_type": "display_data"
    }
   ],
   "source": [
    "line2 = sns.lineplot(data = df_prices_ohd_col, x = 'order_hour_of_day', y = 'prices')"
   ]
  },
  {
   "cell_type": "markdown",
   "id": "a621c498-4b89-4466-954a-a2a6b2980d7a",
   "metadata": {},
   "source": [
    "As depicted by the line chart above, customers tend to spend most of money on the midnight and morning orders, in this case, it is between 1 AM to 9 AM. However, from the previous histogram, it was discovered that this period of time is the low order period. In other words, this could mean that we earn more profit from these high value orders despite its low order quantity.\n",
    "\n",
    "Interestingly, the lowest value of orders occured at 10 AM and slowly increase afterwards. While, the histogram clearly shown that day time is generaly busy time where most orders are placed. This also proves that we earn less profit from these low value orders despite its high order quantity."
   ]
  },
  {
   "cell_type": "markdown",
   "id": "12aa8920-6ac3-425d-8adc-afd73eebf99b",
   "metadata": {},
   "source": [
    "#### Q6. Conduct some exploratory analysis of customer demographics to inform the targeted marketing campaigns.\n",
    "First, determine whether there’s a connection between age and family situation by creating a line chart exploring the connections between age and number of dependents."
   ]
  },
  {
   "cell_type": "code",
   "execution_count": 29,
   "id": "c7e38fb1-bf34-422e-a8b9-f15f7148f7ce",
   "metadata": {},
   "outputs": [],
   "source": [
    "df_ages_dependnum_col = small[['age', 'dependants_number']]"
   ]
  },
  {
   "cell_type": "code",
   "execution_count": 30,
   "id": "ca25d8db-65d1-4634-ade0-1ca2b5dc928c",
   "metadata": {},
   "outputs": [
    {
     "data": {
      "image/png": "[encoded data removed]",
      "text/plain": [
       "<Figure size 432x288 with 1 Axes>"
      ]
     },
     "metadata": {
      "needs_background": "light"
     },
     "output_type": "display_data"
    }
   ],
   "source": [
    "line3 = sns.lineplot(data = df_ages_dependnum_col, x = 'age', y = 'dependants_number')"
   ]
  },
  {
   "cell_type": "markdown",
   "id": "089325a1-9c31-44a7-bd5e-984aa9c553a2",
   "metadata": {},
   "source": [
    "There is no correlation between age and family situation."
   ]
  },
  {
   "cell_type": "markdown",
   "id": "1b14f6fb-840e-44b4-8266-99bfde0a870c",
   "metadata": {},
   "source": [
    "#### Q7. Explore whether there’s a connection between age and spending power (income).\n",
    "To visualize this relationship, create a scatterplot using the sns.scatterplot() function."
   ]
  },
  {
   "cell_type": "code",
   "execution_count": 31,
   "id": "971305d4-a91a-4d14-8268-0341f0e64e78",
   "metadata": {},
   "outputs": [
    {
     "data": {
      "image/png": "[encoded data removed]",
      "text/plain": [
       "<Figure size 432x288 with 1 Axes>"
      ]
     },
     "metadata": {
      "needs_background": "light"
     },
     "output_type": "display_data"
    }
   ],
   "source": [
    "# Create again the scatter plot\n",
    "\n",
    "scatter3 = sns.scatterplot(x = 'age', y = 'income', data = df_ords_prods_cust_cleaned)"
   ]
  },
  {
   "cell_type": "markdown",
   "id": "468f2f04-6f3a-45e9-9bb0-abe0d3fad0d1",
   "metadata": {},
   "source": [
    "This scatter plot shows that:\n",
    "1. The majority age group of 20-40 years has a income range up to 200,000 USD and small portion of this group manage to earn up to 400,000 USD.\n",
    "2. At the age of 41 onwards (here, also called group of 40+ years), the income of majority of this group rises up to 300,000 USD. Small portion of thise group, however, earns higher up to 600,000 USD."
   ]
  },
  {
   "cell_type": "markdown",
   "id": "1724c9f4-458d-44c7-b4ee-0f68ef1becf5",
   "metadata": {},
   "source": [
    "#### Q8. Export visualizations as '.png' files in the relevant project folder."
   ]
  },
  {
   "cell_type": "code",
   "execution_count": 32,
   "id": "d6f6f0ed-d5f4-4824-bdba-384900308a9b",
   "metadata": {},
   "outputs": [],
   "source": [
    "# Export all visualizations in the form of an image file.\n",
    "\n",
    "bar_order_week.figure.savefig(os.path.join(path, '04 Analysis','Visualizations', 'bar_order_day_of_week.png'))\n",
    "hist.figure.savefig(os.path.join(path, '04 Analysis','Visualizations', 'hist_prices.png'))\n",
    "scatter.figure.savefig(os.path.join(path, '04 Analysis','Visualizations', 'scatter_prices.png'))"
   ]
  },
  {
   "cell_type": "code",
   "execution_count": 33,
   "id": "8b1f7df2-931c-4d6f-b6ce-e544babbdca1",
   "metadata": {},
   "outputs": [],
   "source": [
    "hist2.figure.savefig(os.path.join(path, '04 Analysis','Visualizations', 'hist2_prices.png'))\n",
    "scatter2.figure.savefig(os.path.join(path, '04 Analysis','Visualizations', 'scatter2_prices.png'))\n",
    "line.figure.savefig(os.path.join(path, '04 Analysis','Visualizations', 'line_prices_odw.png'))\n",
    "hist3.figure.savefig(os.path.join(path, '04 Analysis','Visualizations', 'hist_order_hour_of_day.png'))\n",
    "bar2.figure.savefig(os.path.join(path, '04 Analysis','Visualizations', 'bar_loyalty_flag.png'))\n",
    "line2.figure.savefig(os.path.join(path, '04 Analysis','Visualizations', 'line_prices_ohd.png'))\n",
    "line3.figure.savefig(os.path.join(path, '04 Analysis','Visualizations', 'line_age_dependnum.png'))\n",
    "scatter3.figure.savefig(os.path.join(path, '04 Analysis','Visualizations', 'scatter_age_income.png'))"
   ]
  },
  {
   "cell_type": "code",
   "execution_count": 35,
   "id": "6f5dcdff-546d-48f2-95ed-318bc73b3f76",
   "metadata": {},
   "outputs": [
    {
     "data": {
      "text/plain": [
       "0"
      ]
     },
     "execution_count": 35,
     "metadata": {},
     "output_type": "execute_result"
    }
   ],
   "source": [
    "gc.collect()"
   ]
  }
 ],
 "metadata": {
  "kernelspec": {
   "display_name": "Python 3 (ipykernel)",
   "language": "python",
   "name": "python3"
  },
  "language_info": {
   "codemirror_mode": {
    "name": "ipython",
    "version": 3
   },
   "file_extension": ".py",
   "mimetype": "text/x-python",
   "name": "python",
   "nbconvert_exporter": "python",
   "pygments_lexer": "ipython3",
   "version": "3.9.12"
  }
 },
 "nbformat": 4,
 "nbformat_minor": 5
}
