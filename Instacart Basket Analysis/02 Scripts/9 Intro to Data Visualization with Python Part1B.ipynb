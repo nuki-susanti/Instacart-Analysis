{
 "cells": [
  {
   "cell_type": "markdown",
   "id": "8ebb3925-e360-4bb3-a60b-8150f7cde30b",
   "metadata": {},
   "source": [
    "## This file contains anwers Task 4.9 Part 1"
   ]
  },
  {
   "cell_type": "code",
   "execution_count": null,
   "id": "f541348d-e1a9-4d20-9d4f-c661cdf9af31",
   "metadata": {},
   "outputs": [],
   "source": [
    "# Import libraries\n",
    "\n",
    "import pandas as pd\n",
    "import numpy as np\n",
    "import os\n",
    "import gc"
   ]
  },
  {
   "cell_type": "code",
   "execution_count": null,
   "id": "0e99cf9b-38a3-4de6-9d52-16ece5f0d0cc",
   "metadata": {},
   "outputs": [],
   "source": [
    "# Defining path\n",
    "path = r'C:\\Users\\nukis\\Documents\\Instacart Basket Analysis'"
   ]
  },
  {
   "cell_type": "code",
   "execution_count": null,
   "id": "a8f6a819-2e82-49aa-a56b-345e504a3b45",
   "metadata": {},
   "outputs": [],
   "source": [
    "# Importing 'orders_products_merged_update2.pkl'\n",
    "\n",
    "df_ords_prods_cleaned = pd.read_pickle(os.path.join(path, '02 Data', 'Prepared Data', 'orders_products_merged_update2.pkl'))"
   ]
  },
  {
   "cell_type": "markdown",
   "id": "8cbfd964-97dc-4453-8454-6bec683f4945",
   "metadata": {},
   "source": [
    "#### Datatype Conversions"
   ]
  },
  {
   "cell_type": "code",
   "execution_count": null,
   "id": "11149158-0b66-43bd-8679-609d512b6772",
   "metadata": {},
   "outputs": [],
   "source": [
    "df_ords_prods_cleaned.info(memory_usage='deep')"
   ]
  },
  {
   "cell_type": "code",
   "execution_count": null,
   "id": "aef020ec-c10e-4f24-8556-1f5d2deacd6c",
   "metadata": {},
   "outputs": [],
   "source": [
    "# Converting object data type to category for all columns below except 'product_name' as it has too many unique values.\n",
    "\n",
    "df_ords_prods_cleaned_obj = df_ords_prods_cleaned.select_dtypes(include=['object']).copy()\n",
    "df_ords_prods_cleaned_obj.describe()"
   ]
  },
  {
   "cell_type": "code",
   "execution_count": null,
   "id": "affb49c5-5655-4bb7-8e0e-badb301bc51e",
   "metadata": {},
   "outputs": [],
   "source": [
    "# Change in datatype by downcasting loop\n",
    "\n",
    "for column in df_ords_prods_cleaned:\n",
    "    if df_ords_prods_cleaned[column].dtype == 'float64':\n",
    "        df_ords_prods_cleaned[column] = pd.to_numeric(df_ords_prods_cleaned[column], downcast = 'float')\n",
    "    elif df_ords_prods_cleaned[column].dtype == 'int64':\n",
    "        df_ords_prods_cleaned[column] = pd.to_numeric(df_ords_prods_cleaned[column], downcast = 'integer')\n",
    "    else:\n",
    "        if df_ords_prods_cleaned[column].dtype == 'object' and column != 'product_name':\n",
    "            df_ords_prods_cleaned[column] = df_ords_prods_cleaned[column].astype('category') "
   ]
  },
  {
   "cell_type": "code",
   "execution_count": null,
   "id": "17b2b7fd-230c-4874-bca7-713886cb923f",
   "metadata": {},
   "outputs": [],
   "source": [
    "df_ords_prods_cleaned.info(memory_usage='deep')"
   ]
  },
  {
   "cell_type": "markdown",
   "id": "7d5700cc-bd5d-46f6-b9fb-fcb6eebfc055",
   "metadata": {},
   "source": [
    "By using above steps, memory usage is reduced from 21 GB to 4.2 GB to prevent my Jupyter from crashing all the time."
   ]
  },
  {
   "cell_type": "code",
   "execution_count": null,
   "id": "91df198b-68e0-4bf8-bf1b-2fe6c9f52f51",
   "metadata": {},
   "outputs": [],
   "source": [
    "# Export the resized version for emergency situation in case it crashes again.\n",
    "\n",
    "df_ords_prods_cleaned.to_pickle(os.path.join(path, '02 Data','Prepared Data', 'orders_products_merged_update2_resized.pkl'))"
   ]
  },
  {
   "cell_type": "code",
   "execution_count": null,
   "id": "0b87aa18-b57e-43d0-b12f-db250591c0f5",
   "metadata": {},
   "outputs": [],
   "source": [
    "gc.collect()"
   ]
  },
  {
   "cell_type": "markdown",
   "id": "2d196b48-26d9-4857-bc2c-0ccda6da98cc",
   "metadata": {},
   "source": [
    "As my Jupyter kept crashing, I restarted kernel and cleared the output. This notebook will be continued to Part1C."
   ]
  }
 ],
 "metadata": {
  "kernelspec": {
   "display_name": "Python 3 (ipykernel)",
   "language": "python",
   "name": "python3"
  },
  "language_info": {
   "codemirror_mode": {
    "name": "ipython",
    "version": 3
   },
   "file_extension": ".py",
   "mimetype": "text/x-python",
   "name": "python",
   "nbconvert_exporter": "python",
   "pygments_lexer": "ipython3",
   "version": "3.9.12"
  }
 },
 "nbformat": 4,
 "nbformat_minor": 5
}
